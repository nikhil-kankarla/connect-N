{
 "cells": [
  {
   "cell_type": "code",
   "execution_count": 7,
   "source": [
    "import numpy as np\n",
    "from pprintpp import pprint as pp\n"
   ],
   "outputs": [],
   "metadata": {}
  },
  {
   "cell_type": "code",
   "execution_count": 8,
   "source": [
    "a = np.array([[0, 0, 0], [1, 0, -1], [0, -1, 1]])\n",
    "\n",
    "a"
   ],
   "outputs": [
    {
     "output_type": "execute_result",
     "data": {
      "text/plain": [
       "array([[ 0,  0,  0],\n",
       "       [ 1,  0, -1],\n",
       "       [ 0, -1,  1]])"
      ]
     },
     "metadata": {},
     "execution_count": 8
    }
   ],
   "metadata": {}
  },
  {
   "cell_type": "code",
   "execution_count": 33,
   "source": [
    "for x in a:\n",
    "    y = list(x)\n",
    "    y = [str(n) for n in y]\n",
    "    print('|'+'|'.join(list(y)).replace('-1', '  O  ').replace('1', '  X  ').replace('0', ' 0,1 ')+'|')"
   ],
   "outputs": [
    {
     "output_type": "stream",
     "name": "stdout",
     "text": [
      "| 0,1 | 0,1 | 0,1 |\n",
      "|  X  | 0,1 |  O  |\n",
      "| 0,1 |  O  |  X  |\n"
     ]
    }
   ],
   "metadata": {}
  },
  {
   "cell_type": "code",
   "execution_count": 45,
   "source": [
    "len(np.where(a==3)[0])\n",
    "# list(zip(*[x.tolist() for x in np.where(a==1)]))\n",
    "# list(zip(x.tolist() for x in np.where(a==1)))"
   ],
   "outputs": [
    {
     "output_type": "execute_result",
     "data": {
      "text/plain": [
       "0"
      ]
     },
     "metadata": {},
     "execution_count": 45
    }
   ],
   "metadata": {}
  },
  {
   "cell_type": "code",
   "execution_count": 35,
   "source": [
    "player_positions = list(zip(*[x.tolist() for x in np.where(a==1)]))\n",
    "\n",
    "win_positions = [[[1, 1], [0, 1]], [[1, 0], [2, 2]]]\n",
    "win_positions = [[tuple(x) for x in y] for y in win_positions] # convert (list of list of lists) to (list of list of tuples)\n",
    "print(win_positions)\n",
    "\n",
    "for win_combo in win_positions:\n",
    "    print(set(win_combo).issubset(player_positions))"
   ],
   "outputs": [
    {
     "output_type": "stream",
     "name": "stdout",
     "text": [
      "[[(1, 1), (0, 1)], [(1, 0), (2, 2)]]\n",
      "False\n",
      "True\n"
     ]
    }
   ],
   "metadata": {}
  },
  {
   "cell_type": "code",
   "execution_count": 37,
   "source": [
    "[[0]*3]*3"
   ],
   "outputs": [
    {
     "output_type": "execute_result",
     "data": {
      "text/plain": [
       "[[0, 0, 0], [0, 0, 0], [0, 0, 0]]"
      ]
     },
     "metadata": {},
     "execution_count": 37
    }
   ],
   "metadata": {}
  },
  {
   "cell_type": "code",
   "execution_count": 40,
   "source": [
    "PLAYERS = {\n",
    "    'player_1': {\n",
    "        'player_num': 1\n",
    "        , 'board_value': 1\n",
    "    }\n",
    "    , 'player_2': {\n",
    "        'player_num': 2\n",
    "        , 'board_value': -1\n",
    "    }\n",
    "}\n",
    "\n",
    "PLAYERS['player_1']['board_value']"
   ],
   "outputs": [
    {
     "output_type": "execute_result",
     "data": {
      "text/plain": [
       "1"
      ]
     },
     "metadata": {},
     "execution_count": 40
    }
   ],
   "metadata": {}
  },
  {
   "cell_type": "code",
   "execution_count": 51,
   "source": [
    "('left' in ['left', 'right', 'up']) and ('right' in ['left', 'right', 'up'])"
   ],
   "outputs": [
    {
     "output_type": "execute_result",
     "data": {
      "text/plain": [
       "True"
      ]
     },
     "metadata": {},
     "execution_count": 51
    }
   ],
   "metadata": {}
  },
  {
   "cell_type": "code",
   "execution_count": 72,
   "source": [
    "TOP_ROW_INDX = 'top_row_indx'\n",
    "BOTTOM_ROW_INDX = 'bottom_row_indx'\n",
    "LEFT_COLUMN_INDX = 'left_column_indx'\n",
    "RIGHT_COLUMN_INDX = 'right_column_indx'\n",
    "\n",
    "def is_in_outer_perimeter(outer_perimeter, row, column):\n",
    "    return (\n",
    "        (\n",
    "            (row in [outer_perimeter[TOP_ROW_INDX], outer_perimeter[BOTTOM_ROW_INDX]])\n",
    "        )\n",
    "        or \n",
    "        (\n",
    "            (column in [outer_perimeter[LEFT_COLUMN_INDX], outer_perimeter[RIGHT_COLUMN_INDX]])\n",
    "        )\n",
    "    )\n",
    "\n",
    "outer_perimeter = {\n",
    "    TOP_ROW_INDX: 0\n",
    "    , BOTTOM_ROW_INDX: 3\n",
    "    , LEFT_COLUMN_INDX: 0\n",
    "    , RIGHT_COLUMN_INDX: 4\n",
    "}\n",
    "\n",
    "outer_perimeter_positions = []\n",
    "for row in range(outer_perimeter[TOP_ROW_INDX], outer_perimeter[BOTTOM_ROW_INDX] + 1):\n",
    "    for column in range(outer_perimeter[LEFT_COLUMN_INDX], outer_perimeter[RIGHT_COLUMN_INDX] + 1):\n",
    "        if is_in_outer_perimeter(outer_perimeter, row, column):\n",
    "            outer_perimeter_positions.append((row, column))\n",
    "\n",
    "z = np.array([[0]*5]*4)\n",
    "for p in outer_perimeter_positions:\n",
    "    z[p[0], p[1]] = 1\n",
    "pp(z)\n",
    "pp(outer_perimeter_positions)"
   ],
   "outputs": [
    {
     "output_type": "stream",
     "name": "stdout",
     "text": [
      "array([[1, 1, 1, 1, 1],\n",
      "       [1, 0, 0, 0, 1],\n",
      "       [1, 0, 0, 0, 1],\n",
      "       [1, 1, 1, 1, 1]])\n",
      "[\n",
      "    (0, 0),\n",
      "    (0, 1),\n",
      "    (0, 2),\n",
      "    (0, 3),\n",
      "    (0, 4),\n",
      "    (1, 0),\n",
      "    (1, 4),\n",
      "    (2, 0),\n",
      "    (2, 4),\n",
      "    (3, 0),\n",
      "    (3, 1),\n",
      "    (3, 2),\n",
      "    (3, 3),\n",
      "    (3, 4),\n",
      "]\n"
     ]
    }
   ],
   "metadata": {}
  },
  {
   "cell_type": "code",
   "execution_count": 63,
   "source": [
    "for x in range(0, 3):\n",
    "    print(x)"
   ],
   "outputs": [
    {
     "output_type": "stream",
     "name": "stdout",
     "text": [
      "0\n",
      "1\n",
      "2\n"
     ]
    }
   ],
   "metadata": {}
  },
  {
   "cell_type": "code",
   "execution_count": 8,
   "source": [
    "Position(1, 2)\n",
    "print(Position(1, 2))"
   ],
   "outputs": [
    {
     "output_type": "stream",
     "name": "stdout",
     "text": [
      "[1, 2]\n"
     ]
    }
   ],
   "metadata": {}
  },
  {
   "cell_type": "code",
   "execution_count": 1,
   "source": [
    "from classes.player import Player"
   ],
   "outputs": [],
   "metadata": {}
  },
  {
   "cell_type": "code",
   "execution_count": 2,
   "source": [
    "p1 = Player(1, 1)\n",
    "print(p1)"
   ],
   "outputs": [
    {
     "output_type": "stream",
     "name": "stdout",
     "text": [
      "Player(player_num: 1, board_value: 1)\n"
     ]
    }
   ],
   "metadata": {}
  },
  {
   "cell_type": "code",
   "execution_count": 3,
   "source": [
    "p1.opponent = Player(3 - p1.player_num, (-1) * p1.board_value)\n",
    "print(p1)"
   ],
   "outputs": [
    {
     "output_type": "stream",
     "name": "stdout",
     "text": [
      "Player(player_num: 1, board_value: 1, opponent: Player(player_num: 2, board_value: -1))\n"
     ]
    }
   ],
   "metadata": {}
  },
  {
   "cell_type": "code",
   "execution_count": 4,
   "source": [
    "p1.opponent"
   ],
   "outputs": [
    {
     "output_type": "execute_result",
     "data": {
      "text/plain": [
       "<classes.player.Player at 0x10bf47670>"
      ]
     },
     "metadata": {},
     "execution_count": 4
    }
   ],
   "metadata": {}
  },
  {
   "cell_type": "code",
   "execution_count": 4,
   "source": [
    "p2 = p1.opponent\n",
    "p2"
   ],
   "outputs": [
    {
     "output_type": "execute_result",
     "data": {
      "text/plain": [
       "Player(player_num: 2, board_value: -1)"
      ]
     },
     "metadata": {},
     "execution_count": 4
    }
   ],
   "metadata": {}
  },
  {
   "cell_type": "code",
   "execution_count": 5,
   "source": [
    "p2.opponent = p1\n",
    "print(p2)"
   ],
   "outputs": [
    {
     "output_type": "error",
     "ename": "RecursionError",
     "evalue": "maximum recursion depth exceeded while calling a Python object",
     "traceback": [
      "\u001b[0;31m---------------------------------------------------------------------------\u001b[0m",
      "\u001b[0;31mRecursionError\u001b[0m                            Traceback (most recent call last)",
      "Input \u001b[0;32mIn [5]\u001b[0m, in \u001b[0;36m<module>\u001b[0;34m\u001b[0m\n\u001b[1;32m      1\u001b[0m p2\u001b[38;5;241m.\u001b[39mopponent \u001b[38;5;241m=\u001b[39m p1\n\u001b[0;32m----> 2\u001b[0m \u001b[38;5;28;43mprint\u001b[39;49m\u001b[43m(\u001b[49m\u001b[43mp2\u001b[49m\u001b[43m)\u001b[49m\n",
      "File \u001b[0;32m~/Desktop/Programming/Python/Monte_Carlo_Tree_Simulation/TicTacToe/nk_ttt/classes/player.py:15\u001b[0m, in \u001b[0;36mPlayer.__str__\u001b[0;34m(self)\u001b[0m\n\u001b[1;32m     13\u001b[0m \u001b[38;5;28;01mdef\u001b[39;00m \u001b[38;5;21m__str__\u001b[39m(\u001b[38;5;28mself\u001b[39m):\n\u001b[1;32m     14\u001b[0m     \u001b[38;5;28;01mif\u001b[39;00m \u001b[38;5;28mhasattr\u001b[39m(\u001b[38;5;28mself\u001b[39m, \u001b[38;5;124m'\u001b[39m\u001b[38;5;124mopponent\u001b[39m\u001b[38;5;124m'\u001b[39m): \n\u001b[0;32m---> 15\u001b[0m         str_ \u001b[38;5;241m=\u001b[39m \u001b[38;5;124mf\u001b[39m\u001b[38;5;124m'\u001b[39m\u001b[38;5;124mPlayer(player_num: \u001b[39m\u001b[38;5;132;01m{\u001b[39;00m\u001b[38;5;28mself\u001b[39m\u001b[38;5;241m.\u001b[39mplayer_num\u001b[38;5;132;01m}\u001b[39;00m\u001b[38;5;124m, board_value: \u001b[39m\u001b[38;5;132;01m{\u001b[39;00m\u001b[38;5;28mself\u001b[39m\u001b[38;5;241m.\u001b[39mboard_value\u001b[38;5;132;01m}\u001b[39;00m\u001b[38;5;124m, opponent: \u001b[39m\u001b[38;5;132;01m{\u001b[39;00m\u001b[38;5;28mself\u001b[39m\u001b[38;5;241m.\u001b[39mopponent\u001b[38;5;132;01m}\u001b[39;00m\u001b[38;5;124m)\u001b[39m\u001b[38;5;124m'\u001b[39m\n\u001b[1;32m     16\u001b[0m     \u001b[38;5;28;01melse\u001b[39;00m:\n\u001b[1;32m     17\u001b[0m         str_ \u001b[38;5;241m=\u001b[39m \u001b[38;5;124mf\u001b[39m\u001b[38;5;124m'\u001b[39m\u001b[38;5;124mPlayer(player_num: \u001b[39m\u001b[38;5;132;01m{\u001b[39;00m\u001b[38;5;28mself\u001b[39m\u001b[38;5;241m.\u001b[39mplayer_num\u001b[38;5;132;01m}\u001b[39;00m\u001b[38;5;124m, board_value: \u001b[39m\u001b[38;5;132;01m{\u001b[39;00m\u001b[38;5;28mself\u001b[39m\u001b[38;5;241m.\u001b[39mboard_value\u001b[38;5;132;01m}\u001b[39;00m\u001b[38;5;124m)\u001b[39m\u001b[38;5;124m'\u001b[39m\n",
      "File \u001b[0;32m~/Desktop/Programming/Python/Monte_Carlo_Tree_Simulation/TicTacToe/nk_ttt/classes/player.py:15\u001b[0m, in \u001b[0;36mPlayer.__str__\u001b[0;34m(self)\u001b[0m\n\u001b[1;32m     13\u001b[0m \u001b[38;5;28;01mdef\u001b[39;00m \u001b[38;5;21m__str__\u001b[39m(\u001b[38;5;28mself\u001b[39m):\n\u001b[1;32m     14\u001b[0m     \u001b[38;5;28;01mif\u001b[39;00m \u001b[38;5;28mhasattr\u001b[39m(\u001b[38;5;28mself\u001b[39m, \u001b[38;5;124m'\u001b[39m\u001b[38;5;124mopponent\u001b[39m\u001b[38;5;124m'\u001b[39m): \n\u001b[0;32m---> 15\u001b[0m         str_ \u001b[38;5;241m=\u001b[39m \u001b[38;5;124mf\u001b[39m\u001b[38;5;124m'\u001b[39m\u001b[38;5;124mPlayer(player_num: \u001b[39m\u001b[38;5;132;01m{\u001b[39;00m\u001b[38;5;28mself\u001b[39m\u001b[38;5;241m.\u001b[39mplayer_num\u001b[38;5;132;01m}\u001b[39;00m\u001b[38;5;124m, board_value: \u001b[39m\u001b[38;5;132;01m{\u001b[39;00m\u001b[38;5;28mself\u001b[39m\u001b[38;5;241m.\u001b[39mboard_value\u001b[38;5;132;01m}\u001b[39;00m\u001b[38;5;124m, opponent: \u001b[39m\u001b[38;5;132;01m{\u001b[39;00m\u001b[38;5;28mself\u001b[39m\u001b[38;5;241m.\u001b[39mopponent\u001b[38;5;132;01m}\u001b[39;00m\u001b[38;5;124m)\u001b[39m\u001b[38;5;124m'\u001b[39m\n\u001b[1;32m     16\u001b[0m     \u001b[38;5;28;01melse\u001b[39;00m:\n\u001b[1;32m     17\u001b[0m         str_ \u001b[38;5;241m=\u001b[39m \u001b[38;5;124mf\u001b[39m\u001b[38;5;124m'\u001b[39m\u001b[38;5;124mPlayer(player_num: \u001b[39m\u001b[38;5;132;01m{\u001b[39;00m\u001b[38;5;28mself\u001b[39m\u001b[38;5;241m.\u001b[39mplayer_num\u001b[38;5;132;01m}\u001b[39;00m\u001b[38;5;124m, board_value: \u001b[39m\u001b[38;5;132;01m{\u001b[39;00m\u001b[38;5;28mself\u001b[39m\u001b[38;5;241m.\u001b[39mboard_value\u001b[38;5;132;01m}\u001b[39;00m\u001b[38;5;124m)\u001b[39m\u001b[38;5;124m'\u001b[39m\n",
      "    \u001b[0;31m[... skipping similar frames: Player.__str__ at line 15 (987 times)]\u001b[0m\n",
      "File \u001b[0;32m~/Desktop/Programming/Python/Monte_Carlo_Tree_Simulation/TicTacToe/nk_ttt/classes/player.py:15\u001b[0m, in \u001b[0;36mPlayer.__str__\u001b[0;34m(self)\u001b[0m\n\u001b[1;32m     13\u001b[0m \u001b[38;5;28;01mdef\u001b[39;00m \u001b[38;5;21m__str__\u001b[39m(\u001b[38;5;28mself\u001b[39m):\n\u001b[1;32m     14\u001b[0m     \u001b[38;5;28;01mif\u001b[39;00m \u001b[38;5;28mhasattr\u001b[39m(\u001b[38;5;28mself\u001b[39m, \u001b[38;5;124m'\u001b[39m\u001b[38;5;124mopponent\u001b[39m\u001b[38;5;124m'\u001b[39m): \n\u001b[0;32m---> 15\u001b[0m         str_ \u001b[38;5;241m=\u001b[39m \u001b[38;5;124mf\u001b[39m\u001b[38;5;124m'\u001b[39m\u001b[38;5;124mPlayer(player_num: \u001b[39m\u001b[38;5;132;01m{\u001b[39;00m\u001b[38;5;28mself\u001b[39m\u001b[38;5;241m.\u001b[39mplayer_num\u001b[38;5;132;01m}\u001b[39;00m\u001b[38;5;124m, board_value: \u001b[39m\u001b[38;5;132;01m{\u001b[39;00m\u001b[38;5;28mself\u001b[39m\u001b[38;5;241m.\u001b[39mboard_value\u001b[38;5;132;01m}\u001b[39;00m\u001b[38;5;124m, opponent: \u001b[39m\u001b[38;5;132;01m{\u001b[39;00m\u001b[38;5;28mself\u001b[39m\u001b[38;5;241m.\u001b[39mopponent\u001b[38;5;132;01m}\u001b[39;00m\u001b[38;5;124m)\u001b[39m\u001b[38;5;124m'\u001b[39m\n\u001b[1;32m     16\u001b[0m     \u001b[38;5;28;01melse\u001b[39;00m:\n\u001b[1;32m     17\u001b[0m         str_ \u001b[38;5;241m=\u001b[39m \u001b[38;5;124mf\u001b[39m\u001b[38;5;124m'\u001b[39m\u001b[38;5;124mPlayer(player_num: \u001b[39m\u001b[38;5;132;01m{\u001b[39;00m\u001b[38;5;28mself\u001b[39m\u001b[38;5;241m.\u001b[39mplayer_num\u001b[38;5;132;01m}\u001b[39;00m\u001b[38;5;124m, board_value: \u001b[39m\u001b[38;5;132;01m{\u001b[39;00m\u001b[38;5;28mself\u001b[39m\u001b[38;5;241m.\u001b[39mboard_value\u001b[38;5;132;01m}\u001b[39;00m\u001b[38;5;124m)\u001b[39m\u001b[38;5;124m'\u001b[39m\n",
      "File \u001b[0;32m~/Desktop/Programming/Python/Monte_Carlo_Tree_Simulation/TicTacToe/nk_ttt/classes/player.py:14\u001b[0m, in \u001b[0;36mPlayer.__str__\u001b[0;34m(self)\u001b[0m\n\u001b[1;32m     13\u001b[0m \u001b[38;5;28;01mdef\u001b[39;00m \u001b[38;5;21m__str__\u001b[39m(\u001b[38;5;28mself\u001b[39m):\n\u001b[0;32m---> 14\u001b[0m     \u001b[38;5;28;01mif\u001b[39;00m \u001b[38;5;28;43mhasattr\u001b[39;49m\u001b[43m(\u001b[49m\u001b[38;5;28;43mself\u001b[39;49m\u001b[43m,\u001b[49m\u001b[43m \u001b[49m\u001b[38;5;124;43m'\u001b[39;49m\u001b[38;5;124;43mopponent\u001b[39;49m\u001b[38;5;124;43m'\u001b[39;49m\u001b[43m)\u001b[49m: \n\u001b[1;32m     15\u001b[0m         str_ \u001b[38;5;241m=\u001b[39m \u001b[38;5;124mf\u001b[39m\u001b[38;5;124m'\u001b[39m\u001b[38;5;124mPlayer(player_num: \u001b[39m\u001b[38;5;132;01m{\u001b[39;00m\u001b[38;5;28mself\u001b[39m\u001b[38;5;241m.\u001b[39mplayer_num\u001b[38;5;132;01m}\u001b[39;00m\u001b[38;5;124m, board_value: \u001b[39m\u001b[38;5;132;01m{\u001b[39;00m\u001b[38;5;28mself\u001b[39m\u001b[38;5;241m.\u001b[39mboard_value\u001b[38;5;132;01m}\u001b[39;00m\u001b[38;5;124m, opponent: \u001b[39m\u001b[38;5;132;01m{\u001b[39;00m\u001b[38;5;28mself\u001b[39m\u001b[38;5;241m.\u001b[39mopponent\u001b[38;5;132;01m}\u001b[39;00m\u001b[38;5;124m)\u001b[39m\u001b[38;5;124m'\u001b[39m\n\u001b[1;32m     16\u001b[0m     \u001b[38;5;28;01melse\u001b[39;00m:\n",
      "\u001b[0;31mRecursionError\u001b[0m: maximum recursion depth exceeded while calling a Python object"
     ]
    }
   ],
   "metadata": {}
  },
  {
   "cell_type": "code",
   "execution_count": 4,
   "source": [],
   "outputs": [],
   "metadata": {}
  },
  {
   "cell_type": "code",
   "execution_count": 1,
   "source": [
    "import numpy as np\n",
    "from board import Board"
   ],
   "outputs": [],
   "metadata": {}
  },
  {
   "cell_type": "code",
   "execution_count": 2,
   "source": [
    "%load_ext autoreload\n",
    "%autoreload 2"
   ],
   "outputs": [],
   "metadata": {}
  },
  {
   "cell_type": "code",
   "execution_count": 10,
   "source": [
    "Board(rows=4, columns=5, board_positions=np.array([[0, 0, 0, 0, 0],\n",
    "    [0, 0, -1, 0, 0],\n",
    "    [0, 0, -1, 0, 0],\n",
    "    [1, 0, 1, 0, 0]]))\n"
   ],
   "outputs": [
    {
     "output_type": "execute_result",
     "data": {
      "text/plain": [
       "     |  0  |  1  |  2  |  3  |  4  |\n",
       "0    |     |     |     |     |     |\n",
       "1    |     |     |  O  |     |     |\n",
       "2    |     |     |  O  |     |     |\n",
       "3    |  X  |     |  X  |     |     |"
      ]
     },
     "metadata": {},
     "execution_count": 10
    }
   ],
   "metadata": {}
  },
  {
   "cell_type": "code",
   "execution_count": 21,
   "source": [
    "print(Board(rows=4, columns=5, board_positions=np.array([[0, 0, 0, 0, 0],\n",
    "    [0, 0, -1, 0, 0],\n",
    "    [0, 0, -1, 0, 0],\n",
    "    [1, 0, 1, 0, 0]])))"
   ],
   "outputs": [
    {
     "output_type": "stream",
     "name": "stdout",
     "text": [
      "     |  0  |  1  |  2  |  3  |  4  |\n",
      "------------------------------------\n",
      "0    |     |     |     |     |     |\n",
      "-----|  -  |  -  |  -  |  -  |  -  |\n",
      "1    |     |     |  O  |     |     |\n",
      "-----|  -  |  -  |  -  |  -  |  -  |\n",
      "2    |     |     |  O  |     |     |\n",
      "-----|  -  |  -  |  -  |  -  |  -  |\n",
      "3    |  X  |     |  X  |     |     |\n",
      "-----|  -  |  -  |  -  |  -  |  -  |\n",
      "------------------------------------\n"
     ]
    }
   ],
   "metadata": {}
  },
  {
   "cell_type": "code",
   "execution_count": 22,
   "source": [
    "print('''\n",
    "     |  0  |  1  |  2  |  3  |  4  |\n",
    "------------------------------------\n",
    "0    |  X  |  X  |  X  |  X  |  X  |\n",
    "-----|  -  |  -  |  -  |  -  |  -  |\n",
    "1    |  X  |     |  O  |     |  X  |\n",
    "-----|  -  |  -  |  -  |  -  |  -  |\n",
    "2    |  X  |     |  O  |     |  X  |\n",
    "-----|  -  |  -  |  -  |  -  |  -  |\n",
    "3    |  X  |  X  |  X  |  X  |  X  |\n",
    "-----|  -  |  -  |  -  |  -  |  -  |\n",
    "------------------------------------\n",
    "''')"
   ],
   "outputs": [
    {
     "output_type": "stream",
     "name": "stdout",
     "text": [
      "\n",
      "     |  0  |  1  |  2  |  3  |  4  |\n",
      "------------------------------------\n",
      "0    |  X  |  X  |  X  |  X  |  X  |\n",
      "-----|  -  |  -  |  -  |  -  |  -  |\n",
      "1    |  X  |     |  O  |     |  X  |\n",
      "-----|  -  |  -  |  -  |  -  |  -  |\n",
      "2    |  X  |     |  O  |     |  X  |\n",
      "-----|  -  |  -  |  -  |  -  |  -  |\n",
      "3    |  X  |  X  |  X  |  X  |  X  |\n",
      "-----|  -  |  -  |  -  |  -  |  -  |\n",
      "------------------------------------\n",
      "\n"
     ]
    }
   ],
   "metadata": {}
  },
  {
   "cell_type": "code",
   "execution_count": 10,
   "source": [
    "print(''.join(['-' for x in Board().get_separator_line()]))\n",
    "print(Board())\n"
   ],
   "outputs": [
    {
     "output_type": "stream",
     "name": "stdout",
     "text": [
      "------------------------\n",
      "     |  0  |  1  |  2  |\n",
      "________________________\n",
      "\n",
      "0    |     |     |     |\n",
      "________________________\n",
      "\n",
      "1    |     |     |     |\n",
      "________________________\n",
      "\n",
      "2    |     |     |     |\n",
      "________________________\n",
      "\n"
     ]
    }
   ],
   "metadata": {}
  },
  {
   "cell_type": "code",
   "execution_count": 23,
   "source": [
    "a = input('what move do you want to play?')"
   ],
   "outputs": [],
   "metadata": {}
  },
  {
   "cell_type": "code",
   "execution_count": 25,
   "source": [
    "print(a)\n",
    "\n",
    "type(a)"
   ],
   "outputs": [
    {
     "output_type": "stream",
     "name": "stdout",
     "text": [
      "1,2\n"
     ]
    },
    {
     "output_type": "execute_result",
     "data": {
      "text/plain": [
       "str"
      ]
     },
     "metadata": {},
     "execution_count": 25
    }
   ],
   "metadata": {}
  },
  {
   "cell_type": "code",
   "execution_count": 36,
   "source": [
    "games = {1: 1, 2: -1, 3: 1, 4: 9}\n",
    "max(games.values())"
   ],
   "outputs": [
    {
     "output_type": "execute_result",
     "data": {
      "text/plain": [
       "9"
      ]
     },
     "metadata": {},
     "execution_count": 36
    }
   ],
   "metadata": {}
  },
  {
   "cell_type": "code",
   "execution_count": 37,
   "source": [
    "len([x for x in games.values() if x == 1])"
   ],
   "outputs": [
    {
     "output_type": "execute_result",
     "data": {
      "text/plain": [
       "2"
      ]
     },
     "metadata": {},
     "execution_count": 37
    }
   ],
   "metadata": {}
  },
  {
   "cell_type": "code",
   "execution_count": 38,
   "source": [
    "(1, 2) in list(zip(*[x.tolist() for x in np.where(Board().board_positions == 0)]))"
   ],
   "outputs": [
    {
     "output_type": "execute_result",
     "data": {
      "text/plain": [
       "[(0, 0), (0, 1), (0, 2), (1, 0), (1, 1), (1, 2), (2, 0), (2, 1), (2, 2)]"
      ]
     },
     "metadata": {},
     "execution_count": 38
    }
   ],
   "metadata": {}
  },
  {
   "cell_type": "code",
   "execution_count": 39,
   "source": [
    "(1, 2) in list(zip(*[x.tolist() for x in np.where(Board().board_positions == 0)]))"
   ],
   "outputs": [
    {
     "output_type": "execute_result",
     "data": {
      "text/plain": [
       "True"
      ]
     },
     "metadata": {},
     "execution_count": 39
    }
   ],
   "metadata": {}
  },
  {
   "cell_type": "code",
   "execution_count": 41,
   "source": [
    "a = Board()\n",
    "print(a.get_valid_moves())"
   ],
   "outputs": [
    {
     "output_type": "stream",
     "name": "stdout",
     "text": [
      "[(0, 0), (0, 1), (0, 2), (1, 0), (1, 1), (1, 2), (2, 0), (2, 1), (2, 2)]\n"
     ]
    }
   ],
   "metadata": {}
  },
  {
   "cell_type": "code",
   "execution_count": 45,
   "source": [
    "m = ',' in 'blahsdf'\n",
    "\n",
    "m"
   ],
   "outputs": [
    {
     "output_type": "execute_result",
     "data": {
      "text/plain": [
       "False"
      ]
     },
     "metadata": {},
     "execution_count": 45
    }
   ],
   "metadata": {}
  },
  {
   "cell_type": "code",
   "execution_count": 46,
   "source": [
    "int('a')"
   ],
   "outputs": [
    {
     "output_type": "error",
     "ename": "ValueError",
     "evalue": "invalid literal for int() with base 10: 'a'",
     "traceback": [
      "\u001b[0;31m---------------------------------------------------------------------------\u001b[0m",
      "\u001b[0;31mValueError\u001b[0m                                Traceback (most recent call last)",
      "Input \u001b[0;32mIn [46]\u001b[0m, in \u001b[0;36m<module>\u001b[0;34m\u001b[0m\n\u001b[0;32m----> 1\u001b[0m \u001b[38;5;28;43mint\u001b[39;49m\u001b[43m(\u001b[49m\u001b[38;5;124;43m'\u001b[39;49m\u001b[38;5;124;43ma\u001b[39;49m\u001b[38;5;124;43m'\u001b[39;49m\u001b[43m)\u001b[49m\n",
      "\u001b[0;31mValueError\u001b[0m: invalid literal for int() with base 10: 'a'"
     ]
    }
   ],
   "metadata": {}
  },
  {
   "cell_type": "code",
   "execution_count": 48,
   "source": [
    "[x for x in {}.values()]"
   ],
   "outputs": [
    {
     "output_type": "execute_result",
     "data": {
      "text/plain": [
       "[]"
      ]
     },
     "metadata": {},
     "execution_count": 48
    }
   ],
   "metadata": {}
  },
  {
   "cell_type": "code",
   "execution_count": 53,
   "source": [
    "len(np.where(Board().board_positions == 1)[0])"
   ],
   "outputs": [
    {
     "output_type": "execute_result",
     "data": {
      "text/plain": [
       "0"
      ]
     },
     "metadata": {},
     "execution_count": 53
    }
   ],
   "metadata": {}
  },
  {
   "cell_type": "code",
   "execution_count": 61,
   "source": [
    "from config import WIN_COMBOS\n",
    "\n",
    "a = Board(board_positions = np.array([[0, 0, 0], [1, 0, -1], [1, 1, 1]]), win_combos=WIN_COMBOS)\n",
    "a.player_to_act = \"player_1\"\n",
    "a.check_game_status()"
   ],
   "outputs": [
    {
     "output_type": "execute_result",
     "data": {
      "text/plain": [
       "1"
      ]
     },
     "metadata": {},
     "execution_count": 61
    }
   ],
   "metadata": {}
  },
  {
   "cell_type": "code",
   "execution_count": 1,
   "source": [
    "from anytree import NodeMixin, RenderTree"
   ],
   "outputs": [],
   "metadata": {}
  },
  {
   "cell_type": "code",
   "execution_count": 3,
   "source": [
    "from copy import deepcopy\n",
    "from math import log, sqrt\n",
    "import numpy as np\n",
    "from config import (\n",
    "    EXPLORATION_CONSTANT,\n",
    "    ROWS\n",
    "    , COLUMNS\n",
    "    , NUM_CONSECUTIVE_FOR_WIN\n",
    "    , PLAYER_1\n",
    "    , PLAYER_2\n",
    "    , PLAYER_NUM\n",
    "    , BOARD_VALUE\n",
    "    , BOARD_STR\n",
    "    , PLAYERS\n",
    "    , WIN_COMBOS\n",
    "    , DRAW_STATUS\n",
    "    , ONGOING_GAME_STATUS\n",
    "    , PLAYER_1_WIN_STATUS\n",
    "    , PLAYER_2_WIN_STATUS\n",
    "    , OPPONENT\n",
    ")\n",
    "\n",
    "class Board2(NodeMixin):\n",
    "\n",
    "    def __init__(\n",
    "        self\n",
    "        , rows = ROWS\n",
    "        , columns = COLUMNS\n",
    "        , num_consecutive_for_win = NUM_CONSECUTIVE_FOR_WIN\n",
    "        , board_positions = None\n",
    "        , player_to_act = None\n",
    "        , win_combos = WIN_COMBOS\n",
    "        , parent = None\n",
    "        , children = None\n",
    "    ):\n",
    "        super().__init__()\n",
    "        self.rows = rows\n",
    "        self.columns = columns\n",
    "        self.board_shape = [self.rows, self.columns]\n",
    "        self.num_consecutive_for_win = num_consecutive_for_win\n",
    "        if board_positions is None:\n",
    "            board_positions = np.array([[0] * self.columns] * self.rows)\n",
    "        self.board_positions = board_positions\n",
    "        self.player_to_act = player_to_act\n",
    "        self.win_combos = win_combos\n",
    "        self.parent = parent\n",
    "        if children:\n",
    "            self.children\n",
    "    \n",
    "    def get_separator_line(self):\n",
    "        return ['-']*(self.columns*6 + 6)\n",
    "\n",
    "\n",
    "    def convert_row_to_print_string(\n",
    "        self\n",
    "        , row\n",
    "        , row_indx\n",
    "    ):\n",
    "        return (\n",
    "            f\"{str(row_indx).ljust(5, ' ')}\" +\n",
    "            '|' + \n",
    "            (\n",
    "                '|'\\\n",
    "                .join(row)\\\n",
    "                .replace(str(PLAYERS[PLAYER_2][BOARD_VALUE]), f'  {PLAYERS[PLAYER_2][BOARD_STR]}  ')\\\n",
    "                .replace(str(PLAYERS[PLAYER_1][BOARD_VALUE]), f'  {PLAYERS[PLAYER_1][BOARD_STR]}  ')\\\n",
    "                .replace('0', '     ')\n",
    "            ) +\n",
    "            '|\\n' +\n",
    "            '-----|' + \n",
    "            (\n",
    "                '|'\\\n",
    "                .join(row)\\\n",
    "                .replace(str(PLAYERS[PLAYER_2][BOARD_VALUE]), '  -  ')\\\n",
    "                .replace(str(PLAYERS[PLAYER_1][BOARD_VALUE]), '  -  ')\\\n",
    "                .replace('0', '  -  ')\n",
    "            ) +\n",
    "            '|'\n",
    "        )\n",
    "\n",
    "\n",
    "    def get_board_string(self):\n",
    "        \n",
    "        board_header = (\n",
    "            '     |' +\n",
    "            \"|\".join([f'  {str(column_indx)}  ' for column_indx in range(self.columns)]) +\n",
    "            '|\\n' +\n",
    "            ''.join(self.get_separator_line())\n",
    "        )\n",
    "        \n",
    "        board_strings = [board_header]\n",
    "        for row_indx, row in enumerate(self.board_positions):\n",
    "            row = [str(x) for x in row]\n",
    "            board_strings.append(self.convert_row_to_print_string(row, row_indx))\n",
    "        \n",
    "        board_footer = ''.join(self.get_separator_line())\n",
    "        board_strings.append(board_footer)\n",
    "        \n",
    "        return '\\n'.join(board_strings)\n",
    "\n",
    "\n",
    "    def __repr__(self):\n",
    "        return self.get_board_string()\n",
    "\n",
    "\n",
    "    def __str__(self):\n",
    "        return self.get_board_string()"
   ],
   "outputs": [],
   "metadata": {}
  },
  {
   "cell_type": "code",
   "execution_count": 8,
   "source": [
    "from classes import Board\n",
    "\n",
    "a = Board()"
   ],
   "outputs": [],
   "metadata": {}
  },
  {
   "cell_type": "code",
   "execution_count": 13,
   "source": [
    "available_indices = list(zip(*[indx.tolist() for indx in np.where(a.board_positions==0)]))\n",
    "available_moves = []\n",
    "for available_move in available_indices:\n",
    "    new_state = a.board_positions.copy()\n",
    "    row_index = available_move[0]\n",
    "    column_index = available_move[1]\n",
    "    new_state[row_index, column_index] = 1\n"
   ],
   "outputs": [
    {
     "output_type": "stream",
     "name": "stdout",
     "text": [
      "[(0, 0), (0, 1), (0, 2), (1, 0), (1, 1), (1, 2), (2, 0), (2, 1), (2, 2)]\n",
      "(0, 0)\n",
      "[[1 0 0]\n",
      " [0 0 0]\n",
      " [0 0 0]]\n",
      "(0, 1)\n",
      "[[0 1 0]\n",
      " [0 0 0]\n",
      " [0 0 0]]\n",
      "(0, 2)\n",
      "[[0 0 1]\n",
      " [0 0 0]\n",
      " [0 0 0]]\n",
      "(1, 0)\n",
      "[[0 0 0]\n",
      " [1 0 0]\n",
      " [0 0 0]]\n",
      "(1, 1)\n",
      "[[0 0 0]\n",
      " [0 1 0]\n",
      " [0 0 0]]\n",
      "(1, 2)\n",
      "[[0 0 0]\n",
      " [0 0 1]\n",
      " [0 0 0]]\n",
      "(2, 0)\n",
      "[[0 0 0]\n",
      " [0 0 0]\n",
      " [1 0 0]]\n",
      "(2, 1)\n",
      "[[0 0 0]\n",
      " [0 0 0]\n",
      " [0 1 0]]\n",
      "(2, 2)\n",
      "[[0 0 0]\n",
      " [0 0 0]\n",
      " [0 0 1]]\n"
     ]
    }
   ],
   "metadata": {}
  }
 ],
 "metadata": {
  "orig_nbformat": 4,
  "language_info": {
   "name": "python",
   "version": "3.9.7",
   "mimetype": "text/x-python",
   "codemirror_mode": {
    "name": "ipython",
    "version": 3
   },
   "pygments_lexer": "ipython3",
   "nbconvert_exporter": "python",
   "file_extension": ".py"
  },
  "kernelspec": {
   "name": "python3",
   "display_name": "Python 3.9.7 64-bit ('nk_ttt': conda)"
  },
  "interpreter": {
   "hash": "d9dd44e3f88006d92b1e88fd1a1779932cfaac77b37f7ab8099f295829309482"
  }
 },
 "nbformat": 4,
 "nbformat_minor": 2
}